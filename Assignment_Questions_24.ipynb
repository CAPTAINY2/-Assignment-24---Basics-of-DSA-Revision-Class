{
  "nbformat": 4,
  "nbformat_minor": 0,
  "metadata": {
    "colab": {
      "provenance": [],
      "authorship_tag": "ABX9TyPIBBjBIA+bks9K3q2ZBRMu",
      "include_colab_link": true
    },
    "kernelspec": {
      "name": "python3",
      "display_name": "Python 3"
    },
    "language_info": {
      "name": "python"
    }
  },
  "cells": [
    {
      "cell_type": "markdown",
      "metadata": {
        "id": "view-in-github",
        "colab_type": "text"
      },
      "source": [
        "<a href=\"https://colab.research.google.com/github/CAPTAINY2/-Assignment-24---Basics-of-DSA-Revision-Class/blob/main/Assignment_Questions_24.ipynb\" target=\"_parent\"><img src=\"https://colab.research.google.com/assets/colab-badge.svg\" alt=\"Open In Colab\"/></a>"
      ]
    },
    {
      "cell_type": "markdown",
      "source": [
        "### QUESTION-1"
      ],
      "metadata": {
        "id": "4WoA3_9_cQt1"
      }
    },
    {
      "cell_type": "code",
      "execution_count": 4,
      "metadata": {
        "colab": {
          "base_uri": "https://localhost:8080/"
        },
        "id": "RA_x6nFH_crO",
        "outputId": "5bb39c1d-d05c-4570-b39b-f1a6d313bc0c"
      },
      "outputs": [
        {
          "output_type": "stream",
          "name": "stdout",
          "text": [
            "Output 1:  3\n",
            "Output 2:  58\n"
          ]
        }
      ],
      "source": [
        "def roman(s):\n",
        "    symbolValues = {\n",
        "        'I': 1,\n",
        "        'V': 5,\n",
        "        'X': 10,\n",
        "        'L': 50,\n",
        "        'C': 100,\n",
        "        'D': 500,\n",
        "        'M': 1000\n",
        "    }\n",
        "    result = 0\n",
        "    n = len(s)\n",
        "\n",
        "    for i in range(n):\n",
        "        if i < n - 1 and symbolValues[s[i]] < symbolValues[s[i+1]]:\n",
        "            result -= symbolValues[s[i]]\n",
        "        else:\n",
        "            result += symbolValues[s[i]]\n",
        "\n",
        "    return result\n",
        "print(\"Output 1: \", roman(\"III\"))\n",
        "\n",
        "print(\"Output 2: \", roman(\"LVIII\"))\n"
      ]
    },
    {
      "cell_type": "markdown",
      "source": [
        "### QUESTION-2"
      ],
      "metadata": {
        "id": "gBiiwJSicUnk"
      }
    },
    {
      "cell_type": "code",
      "source": [
        "def substring(s):\n",
        "    start = 0\n",
        "    end = 0\n",
        "    max_length = 0\n",
        "    seen = set()\n",
        "\n",
        "    while end < len(s):\n",
        "        if s[end] not in seen:\n",
        "            seen.add(s[end])\n",
        "            max_length = max(max_length, end - start + 1)\n",
        "            end += 1\n",
        "        else:\n",
        "            seen.remove(s[start])\n",
        "            start += 1\n",
        "\n",
        "    return max_length\n",
        "print(\"Output 1: \",substring(\"abcabcbb\"))\n",
        "print(\"Output 2: \",substring(\"bbbbb\"))\n",
        "print(\"Output 3: \",substring(\"pwwkew\"))"
      ],
      "metadata": {
        "colab": {
          "base_uri": "https://localhost:8080/"
        },
        "id": "L-HxbMd3Aoq0",
        "outputId": "8d863390-32da-4a12-dae9-201f27e14080"
      },
      "execution_count": 6,
      "outputs": [
        {
          "output_type": "stream",
          "name": "stdout",
          "text": [
            "Output 1:  3\n",
            "Output 2:  1\n",
            "Output 3:  3\n"
          ]
        }
      ]
    },
    {
      "cell_type": "markdown",
      "source": [
        "### QUESTION-3"
      ],
      "metadata": {
        "id": "jAb58NzPcWJJ"
      }
    },
    {
      "cell_type": "code",
      "source": [
        "def element(nums):\n",
        "    candidate = None\n",
        "    count = 0\n",
        "\n",
        "    for i in nums:\n",
        "        if count == 0:\n",
        "            candidate = i\n",
        "        if i == candidate:\n",
        "            count += 1\n",
        "        else:\n",
        "            count -= 1\n",
        "\n",
        "    count = 0\n",
        "    for i in nums:\n",
        "        if i == candidate:\n",
        "            count += 1\n",
        "\n",
        "    if count > len(nums) // 2:\n",
        "        return candidate\n",
        "    else:\n",
        "        return None\n",
        "\n",
        "nums1 = [3,2,3]\n",
        "nums2 = [2,2,1,1,1,2,2]\n",
        "\n",
        "print(\"Output 1: \", element(nums1))\n",
        "print(\"Output 2: \", element(nums2))\n",
        "\n",
        "\n",
        "\n"
      ],
      "metadata": {
        "colab": {
          "base_uri": "https://localhost:8080/"
        },
        "id": "2qx22a4AIX6C",
        "outputId": "17967576-78b6-48cc-ba53-b210c7a43ddd"
      },
      "execution_count": 9,
      "outputs": [
        {
          "output_type": "stream",
          "name": "stdout",
          "text": [
            "Output 1:  3\n",
            "Output 2:  2\n"
          ]
        }
      ]
    },
    {
      "cell_type": "markdown",
      "source": [
        "### QUESTION-4"
      ],
      "metadata": {
        "id": "onWTW_RCcXbQ"
      }
    },
    {
      "cell_type": "code",
      "source": [
        "def anagrams(strs):\n",
        "    groups = {}\n",
        "\n",
        "    for s in strs:\n",
        "        key = ''.join(sorted(s))\n",
        "        if key not in groups:\n",
        "            groups[key] = []\n",
        "        groups[key].append(s)\n",
        "\n",
        "    return list(groups.values())\n",
        "\n",
        "strs1 = [\"eat\",\"tea\",\"tan\",\"ate\",\"nat\",\"bat\"]\n",
        "strs2 = [\"\"]\n",
        "strs3 = [\"a\"]\n",
        "\n",
        "print(\"Output 1: \", anagrams(strs1))\n",
        "print(\"Output 2: \", anagrams(strs2))\n",
        "print(\"Output 3: \", anagrams(strs3))\n"
      ],
      "metadata": {
        "colab": {
          "base_uri": "https://localhost:8080/"
        },
        "id": "Y3svdYsETYvj",
        "outputId": "9c64908b-ac42-4108-d995-235834398c1e"
      },
      "execution_count": 12,
      "outputs": [
        {
          "output_type": "stream",
          "name": "stdout",
          "text": [
            "Output 1:  [['eat', 'tea', 'ate'], ['tan', 'nat'], ['bat']]\n",
            "Output 2:  [['']]\n",
            "Output 3:  [['a']]\n"
          ]
        }
      ]
    },
    {
      "cell_type": "markdown",
      "source": [
        "### QUESTION-5"
      ],
      "metadata": {
        "id": "S6rX2hJacYo1"
      }
    },
    {
      "cell_type": "code",
      "source": [
        "def uglyNum(n):\n",
        "    ugly = [0] * n\n",
        "    ugly[0] = 1\n",
        "    p2 = p3 = p5 = 0\n",
        "\n",
        "    for i in range(1, n):\n",
        "        ugly[i] = min(ugly[p2] * 2, ugly[p3] * 3, ugly[p5] * 5)\n",
        "        if ugly[i] == ugly[p2] * 2:\n",
        "            p2 += 1\n",
        "        if ugly[i] == ugly[p3] * 3:\n",
        "            p3 += 1\n",
        "        if ugly[i] == ugly[p5] * 5:\n",
        "            p5 += 1\n",
        "\n",
        "    return ugly[n-1]\n",
        "\n",
        "n1 = 10\n",
        "n2 = 1\n",
        "\n",
        "print(\"Output 1: \", uglyNum(n1))\n",
        "print(\"Output 2: \", uglyNum(n2))"
      ],
      "metadata": {
        "colab": {
          "base_uri": "https://localhost:8080/"
        },
        "id": "OoH5WW-9UyqM",
        "outputId": "009be1ea-ad7f-4036-8c4b-39f6751524c9"
      },
      "execution_count": 14,
      "outputs": [
        {
          "output_type": "stream",
          "name": "stdout",
          "text": [
            "Output 1:  12\n",
            "Output 2:  1\n"
          ]
        }
      ]
    },
    {
      "cell_type": "markdown",
      "source": [
        "### QUESTION-6"
      ],
      "metadata": {
        "id": "hDeSG76GcZ5g"
      }
    },
    {
      "cell_type": "code",
      "source": [
        "from collections import Counter\n",
        "\n",
        "def kFrequent(words, k):\n",
        "    wordCount = Counter(words)\n",
        "\n",
        "    sortedWords = sorted(wordCount.keys(), key=lambda word: (-wordCount[word], word))\n",
        "\n",
        "    return sortedWords[:k]\n",
        "\n",
        "words1 = [\"i\",\"love\",\"leetcode\",\"i\",\"love\",\"coding\"]\n",
        "k1 = 2\n",
        "words2 = [\"the\",\"day\",\"is\",\"sunny\",\"the\",\"the\",\"the\",\"sunny\",\"is\",\"is\"]\n",
        "k2 = 4\n",
        "\n",
        "print(\"Output 1: \", kFrequent(words1 , k1))\n",
        "print(\"Output 2: \", kFrequent(words2 , k2))\n",
        "\n"
      ],
      "metadata": {
        "colab": {
          "base_uri": "https://localhost:8080/"
        },
        "id": "ylbXSBXzW3bR",
        "outputId": "fda5a0c5-5555-40ea-cb71-4728fe8bce49"
      },
      "execution_count": 19,
      "outputs": [
        {
          "output_type": "stream",
          "name": "stdout",
          "text": [
            "Output 1:  ['i', 'love']\n",
            "Output 2:  ['the', 'is', 'sunny', 'day']\n"
          ]
        }
      ]
    },
    {
      "cell_type": "markdown",
      "source": [
        "### QUESTION-7"
      ],
      "metadata": {
        "id": "ESzyZR-6cbOw"
      }
    },
    {
      "cell_type": "code",
      "source": [
        "from collections import deque\n",
        "\n",
        "def sliding_window(nums, k):\n",
        "    window = deque()\n",
        "    result = []\n",
        "\n",
        "    for i in range(len(nums)):\n",
        "\n",
        "        if window and window[0] <= i - k:\n",
        "            window.popleft()\n",
        "\n",
        "        while window and nums[window[-1]] <= nums[i]:\n",
        "            window.pop()\n",
        "\n",
        "        window.append(i)\n",
        "\n",
        "        if i >= k - 1:\n",
        "            result.append(nums[window[0]])\n",
        "\n",
        "    return result\n",
        "\n",
        "nums1 = [1,3,-1,-3,5,3,6,7]\n",
        "k1 = 3\n",
        "nums2 = [1]\n",
        "k2 = 1\n",
        "\n",
        "print(\"Output 1: \", sliding_window(nums1, k1))\n",
        "\n",
        "print(\"Output 2: \", sliding_window(nums2, k2))"
      ],
      "metadata": {
        "colab": {
          "base_uri": "https://localhost:8080/"
        },
        "id": "Z_H2ZE_bXFV4",
        "outputId": "a171e9a0-569f-45ea-9984-436a0ebad26d"
      },
      "execution_count": 21,
      "outputs": [
        {
          "output_type": "stream",
          "name": "stdout",
          "text": [
            "Output 1:  [3, 3, 5, 5, 6, 7]\n",
            "Output 2:  [1]\n"
          ]
        }
      ]
    },
    {
      "cell_type": "markdown",
      "source": [
        "### QUESTION-8"
      ],
      "metadata": {
        "id": "qySt_P0gcc_2"
      }
    },
    {
      "cell_type": "code",
      "source": [
        "def kElement(arr, k, x):\n",
        "    left = 0\n",
        "    right = len(arr) - 1\n",
        "\n",
        "    while right - left + 1 > k:\n",
        "        if abs(arr[left] - x) > abs(arr[right] - x):\n",
        "            left += 1\n",
        "        else:\n",
        "            right -= 1\n",
        "\n",
        "    return arr[left:right+1]\n",
        "\n",
        "arr1 = [1,2,3,4,5]\n",
        "k1 = 4\n",
        "x1 = 3\n",
        "\n",
        "arr2 = [1,2,3,4,5]\n",
        "k2 = 4\n",
        "x2 = -1\n",
        "\n",
        "print(\"Output 1: \", kElement(arr1, k1, x1))\n",
        "print(\"Output 2: \", kElement(arr2, k2, x2))\n",
        "\n"
      ],
      "metadata": {
        "colab": {
          "base_uri": "https://localhost:8080/"
        },
        "id": "svxtk9jDZ2B2",
        "outputId": "0e4be3d7-3fc9-4d87-cc5e-d65380223df4"
      },
      "execution_count": 23,
      "outputs": [
        {
          "output_type": "stream",
          "name": "stdout",
          "text": [
            "Output 1:  [1, 2, 3, 4]\n",
            "Output 2:  [1, 2, 3, 4]\n"
          ]
        }
      ]
    },
    {
      "cell_type": "code",
      "source": [],
      "metadata": {
        "id": "Swk4jYf7bPgO"
      },
      "execution_count": null,
      "outputs": []
    }
  ]
}